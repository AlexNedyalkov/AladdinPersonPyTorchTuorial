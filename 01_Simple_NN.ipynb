{
  "nbformat": 4,
  "nbformat_minor": 0,
  "metadata": {
    "colab": {
      "provenance": [],
      "authorship_tag": "ABX9TyOeP2V41HzsprIE+uPVU+ar",
      "include_colab_link": true
    },
    "kernelspec": {
      "name": "python3",
      "display_name": "Python 3"
    },
    "language_info": {
      "name": "python"
    }
  },
  "cells": [
    {
      "cell_type": "markdown",
      "metadata": {
        "id": "view-in-github",
        "colab_type": "text"
      },
      "source": [
        "<a href=\"https://colab.research.google.com/github/AlexNedyalkov/AladdinPerssonPyTorchTuorial/blob/main/01_Simple_NN.ipynb\" target=\"_parent\"><img src=\"https://colab.research.google.com/assets/colab-badge.svg\" alt=\"Open In Colab\"/></a>"
      ]
    },
    {
      "cell_type": "code",
      "execution_count": null,
      "metadata": {
        "id": "E-xrOMHh4KHC"
      },
      "outputs": [],
      "source": [
        "import torch\n",
        "import torch.nn as nn\n",
        "import torch.optim\n",
        "from torch.utils.data import DataLoader\n",
        "from torchvision import datasets\n",
        "from torchvision import transforms\n",
        "\n",
        "import os"
      ]
    },
    {
      "cell_type": "code",
      "source": [
        "def check_accuracy(model, loader):\n",
        "    num_correct = 0\n",
        "    num_samples = 0\n",
        "    model.eval()\n",
        "\n",
        "    # We don't need to keep track of gradients here so we wrap it in torch.no_grad()\n",
        "    with torch.no_grad():\n",
        "        # Loop through the data\n",
        "        for x, y in loader:\n",
        "\n",
        "            # Move data to device\n",
        "            x = x.to(device=device)\n",
        "            y = y.to(device=device)\n",
        "\n",
        "            # Get to correct shape\n",
        "            x = x.reshape(x.shape[0], -1)\n",
        "\n",
        "            # Forward pass\n",
        "            scores = model(x)\n",
        "            _, predictions = scores.max(1)\n",
        "\n",
        "            # Check how many we got correct\n",
        "            num_correct += (predictions == y).sum()\n",
        "\n",
        "            # Keep track of number of samples\n",
        "            num_samples += predictions.size(0)\n",
        "\n",
        "    model.train()\n",
        "    return num_correct/num_samples"
      ],
      "metadata": {
        "id": "4JQW9Ox3I8qc"
      },
      "execution_count": null,
      "outputs": []
    },
    {
      "cell_type": "markdown",
      "source": [
        "# 1. Set up Device Using Device-Agnostic Code\n",
        "\n"
      ],
      "metadata": {
        "id": "6aYoq7Hi5qJT"
      }
    },
    {
      "cell_type": "code",
      "source": [
        "# Set device cuda for GPU if it's available otherwise run on the CPU\n",
        "device = torch.device(\"cuda\" if torch.cuda.is_available() else \"cpu\")\n",
        "num_workers = os.cpu_count()"
      ],
      "metadata": {
        "id": "nzVN9OCQ4PdG"
      },
      "execution_count": null,
      "outputs": []
    },
    {
      "cell_type": "markdown",
      "source": [
        "# 2. Create model"
      ],
      "metadata": {
        "id": "nnM-kpTn51tI"
      }
    },
    {
      "cell_type": "code",
      "source": [
        "class FNN(nn.Module):\n",
        "\n",
        "  def __init__(self, in_features, hidden_layers, num_classes) -> None:\n",
        "    super().__init__()\n",
        "    self.linear1 = nn.Linear(in_features = in_features, out_features = hidden_layers)\n",
        "    self.linear2 = nn.Linear(in_features = hidden_layers, out_features = num_classes)\n",
        "    self.relu = nn.ReLU()\n",
        "\n",
        "  def forward(self, x):\n",
        "    x = self.relu(self.linear1(x))\n",
        "    x = self.linear2(x)\n",
        "\n",
        "    return x\n"
      ],
      "metadata": {
        "id": "qM8tI2Zi5tM8"
      },
      "execution_count": null,
      "outputs": []
    },
    {
      "cell_type": "markdown",
      "source": [
        "# 3. Set up hyper parameters"
      ],
      "metadata": {
        "id": "BKD_tV6u6ndg"
      }
    },
    {
      "cell_type": "code",
      "source": [
        "batch_size = 32\n",
        "lr = 0.001\n",
        "epochs = 10\n",
        "hidden_layers = 50"
      ],
      "metadata": {
        "id": "B39I0ofM6j2S"
      },
      "execution_count": null,
      "outputs": []
    },
    {
      "cell_type": "markdown",
      "source": [
        "# 4. Get Data"
      ],
      "metadata": {
        "id": "Y_pSPeUk7Kh_"
      }
    },
    {
      "cell_type": "code",
      "source": [
        "train_dataset = datasets.CIFAR10(\n",
        "                        root = 'data/',\n",
        "                        download = True,\n",
        "                         train = True,\n",
        "                         transform = transforms.ToTensor())\n",
        "\n",
        "test_dataset = datasets.CIFAR10(\n",
        "                        root = 'data/',\n",
        "                        download = True,\n",
        "                         train = False,\n",
        "                         transform = transforms.ToTensor())"
      ],
      "metadata": {
        "colab": {
          "base_uri": "https://localhost:8080/"
        },
        "id": "dPAlgRHi7NGL",
        "outputId": "34b72823-c750-4776-bd6d-98f3bef163e8"
      },
      "execution_count": null,
      "outputs": [
        {
          "output_type": "stream",
          "name": "stdout",
          "text": [
            "Files already downloaded and verified\n",
            "Files already downloaded and verified\n"
          ]
        }
      ]
    },
    {
      "cell_type": "code",
      "source": [
        "train_loader = DataLoader(\n",
        "    dataset = train_dataset,\n",
        "    batch_size=batch_size,\n",
        "    shuffle=True,\n",
        "    drop_last=True,\n",
        "    num_workers = num_workers,\n",
        ")\n",
        "\n",
        "test_loader = DataLoader(\n",
        "    dataset = test_dataset,\n",
        "    batch_size=batch_size,\n",
        "    shuffle=True,\n",
        "    drop_last=True,\n",
        "    num_workers = num_workers,\n",
        ")"
      ],
      "metadata": {
        "id": "BdNcaWr77m0h"
      },
      "execution_count": null,
      "outputs": []
    },
    {
      "cell_type": "markdown",
      "source": [
        "# 5. Initialize network"
      ],
      "metadata": {
        "id": "sZwhRijs89ld"
      }
    },
    {
      "cell_type": "code",
      "source": [
        "X, y = next(iter(train_loader))\n",
        "\n",
        "input_size = X.shape[-1] * X.shape[-2] * X.shape[-3]\n",
        "num_classes = 10\n",
        "\n",
        "X.shape"
      ],
      "metadata": {
        "colab": {
          "base_uri": "https://localhost:8080/"
        },
        "id": "pbWwfpWBIyjl",
        "outputId": "233c556c-f3de-40ba-faab-2b6ae7512c32"
      },
      "execution_count": null,
      "outputs": [
        {
          "output_type": "execute_result",
          "data": {
            "text/plain": [
              "torch.Size([32, 3, 32, 32])"
            ]
          },
          "metadata": {},
          "execution_count": 8
        }
      ]
    },
    {
      "cell_type": "code",
      "source": [
        "model = FNN(in_features = input_size,\n",
        "            hidden_layers=hidden_layers,\n",
        "            num_classes = num_classes).to(device)"
      ],
      "metadata": {
        "id": "oBD911VW7teP"
      },
      "execution_count": null,
      "outputs": []
    },
    {
      "cell_type": "code",
      "source": [
        "optim = torch.optim.Adam(model.parameters(), lr = lr)\n",
        "loss_fn = torch.nn.CrossEntropyLoss()"
      ],
      "metadata": {
        "id": "9rJ9l9WFBWyv"
      },
      "execution_count": null,
      "outputs": []
    },
    {
      "cell_type": "markdown",
      "source": [
        "# 6. Train"
      ],
      "metadata": {
        "id": "pxXwpbaXCP43"
      }
    },
    {
      "cell_type": "code",
      "source": [
        "for epoch in range(epochs):\n",
        "  print(f'Epoch {epoch}')\n",
        "  for X,y in train_loader:\n",
        "\n",
        "    X = X.to(device)\n",
        "    y = y.to(device)\n",
        "    # Get to correct shape\n",
        "    X = X.reshape(batch_size, -1)\n",
        "\n",
        "    # forward pass\n",
        "    y_logit = model(X)\n",
        "    loss = loss_fn(y_logit, y)\n",
        "\n",
        "    # backward\n",
        "    optim.zero_grad()\n",
        "    loss.backward()\n",
        "    optim.step()\n"
      ],
      "metadata": {
        "colab": {
          "base_uri": "https://localhost:8080/"
        },
        "id": "QrwGfOXD_PX3",
        "outputId": "d2633a99-a7b2-46f8-d96f-d84fe76f1fb5"
      },
      "execution_count": null,
      "outputs": [
        {
          "output_type": "stream",
          "name": "stdout",
          "text": [
            "Epoch 0\n",
            "Epoch 1\n",
            "Epoch 2\n",
            "Epoch 3\n",
            "Epoch 4\n",
            "Epoch 5\n",
            "Epoch 6\n",
            "Epoch 7\n",
            "Epoch 8\n",
            "Epoch 9\n"
          ]
        }
      ]
    },
    {
      "cell_type": "markdown",
      "source": [
        "# 7. Check Performance"
      ],
      "metadata": {
        "id": "GinfUUYsKli2"
      }
    },
    {
      "cell_type": "code",
      "source": [
        "# Check accuracy on training & test to see how good our model\n",
        "print(f\"Accuracy on training set: {check_accuracy(loader = train_loader, model = model)*100:.2f}\")\n",
        "print(f\"Accuracy on test set: {check_accuracy(loader = test_loader, model = model)*100:.2f}\")"
      ],
      "metadata": {
        "colab": {
          "base_uri": "https://localhost:8080/"
        },
        "id": "Q9Jv_2GDIdPp",
        "outputId": "5b65ad7a-b097-4c53-c83c-ef27a4308038"
      },
      "execution_count": null,
      "outputs": [
        {
          "output_type": "stream",
          "name": "stdout",
          "text": [
            "Accuracy on training set: 35.92\n",
            "Accuracy on test set: 35.25\n"
          ]
        }
      ]
    }
  ]
}